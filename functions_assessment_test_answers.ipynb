{
 "cells": [
  {
   "cell_type": "markdown",
   "metadata": {},
   "source": [
    "# Functions Assessment Test Answers\n",
    "\n",
    "Complete the following questions:\n",
    "___\n"
   ]
  },
  {
   "cell_type": "markdown",
   "metadata": {},
   "source": [
    "# Making Simple Functions"
   ]
  },
  {
   "cell_type": "markdown",
   "metadata": {},
   "source": [
    "## Question 1:\n",
    "\n",
    "**Write a function that checks the length of any string or list.**\n",
    "\n",
    "*Note: The len() function might come in handy over here. If you are not sure what the len() function does, check out this website for more information: \n",
    "\n",
    "https://www.programiz.com/python-programming/methods/built-in/len\n",
    "\n",
    "Example 1:\n",
    "\n",
    "`Input Parameter: 'Hi this is a string!'`\n",
    "\n",
    "`Expected Output: 15`\n",
    "\n",
    "Example 2:\n",
    "\n",
    "`Input Parameter: [1,2,3,4,5]`\n",
    "\n",
    "`Expected Output: 5`"
   ]
  },
  {
   "cell_type": "code",
   "execution_count": 4,
   "metadata": {},
   "outputs": [],
   "source": [
    "def check_length(user_input):\n",
    "    print(len(user_input)) # The len() will do all the work for us over here"
   ]
  },
  {
   "cell_type": "code",
   "execution_count": 7,
   "metadata": {},
   "outputs": [
    {
     "name": "stdout",
     "output_type": "stream",
     "text": [
      "5\n"
     ]
    }
   ],
   "source": [
    "# Check\n",
    "\n",
    "check_length((1,2,3,4,5))  # Works on lists as well"
   ]
  },
  {
   "cell_type": "markdown",
   "metadata": {},
   "source": [
    "## Question 2:\n",
    "\n",
    "**Write a function that turns a word into a pig latin word. Pig latin is putting the first letter at the end if the word starts with a vowel and putting the first letter at the end of the word and adding 'ay' if the word doesn't start with a vowel.**\n",
    "\n",
    "Example 1:                             \n",
    "\n",
    "`Input Parameter: 'apple'`\n",
    "\n",
    "`Expected Output:`\n",
    "`'pplea'`\n",
    "\n",
    "Example 2:\n",
    "\n",
    "`Input Parameter: 'word'`\n",
    "\n",
    "`Expected Output:`\n",
    "`'ordway'`\n"
   ]
  },
  {
   "cell_type": "code",
   "execution_count": 8,
   "metadata": {},
   "outputs": [],
   "source": [
    "def pig_latin(word):\n",
    "    first_letter = word[0]  # The first letter of the word\n",
    "    if first_letter in 'aeiou':  # if the first letter is in the string of vowels\n",
    "        pig_word = word[1:] + first_letter  # pplea\n",
    "        return pig_word\n",
    "    else:  # If the first letter is not in the string of vowels\n",
    "        pig_word = word[1:] + first_letter + 'ay'  # ordway\n",
    "        return pig_word"
   ]
  },
  {
   "cell_type": "code",
   "execution_count": 11,
   "metadata": {},
   "outputs": [
    {
     "data": {
      "text/plain": [
       "'pamsay'"
      ]
     },
     "execution_count": 11,
     "metadata": {},
     "output_type": "execute_result"
    }
   ],
   "source": [
    "# Check\n",
    "pig_latin('spam')"
   ]
  },
  {
   "cell_type": "code",
   "execution_count": 12,
   "metadata": {},
   "outputs": [
    {
     "data": {
      "text/plain": [
       "'ggse'"
      ]
     },
     "execution_count": 12,
     "metadata": {},
     "output_type": "execute_result"
    }
   ],
   "source": [
    "# Check\n",
    "pig_latin('eggs')"
   ]
  },
  {
   "cell_type": "markdown",
   "metadata": {},
   "source": [
    "## Question 3:\n",
    "\n",
    "**Write a function that uses a <code>for</code> and <code>while</code> loop to count down from 5 and then say 'BLAST OFF' when it reaches 0.**\n",
    "\n",
    "`Example:\n",
    "\n",
    "`Input: count_down()`\n",
    "\n",
    "`Expected output: \n",
    "5!\n",
    "4!\n",
    "3!\n",
    "2!\n",
    "1!\n",
    "0!\n",
    "BLAST OFF!`"
   ]
  },
  {
   "cell_type": "code",
   "execution_count": 13,
   "metadata": {},
   "outputs": [],
   "source": [
    "def count_down():\n",
    "    nums = [5,4,3,2,1,0]  # The list I want to iterate through\n",
    "    for num in nums:\n",
    "        print(str(num) + '!')  # First we need to convert our number into a string in order to concatenate\n",
    "        if num == 0:  # As soon as the number reaches zero\n",
    "            print('BLAST OFF!')"
   ]
  },
  {
   "cell_type": "code",
   "execution_count": 16,
   "metadata": {},
   "outputs": [
    {
     "name": "stdout",
     "output_type": "stream",
     "text": [
      "5!\n",
      "4!\n",
      "3!\n",
      "2!\n",
      "1!\n",
      "0!\n",
      "BLAST OFF!\n"
     ]
    }
   ],
   "source": [
    "# Check\n",
    "\n",
    "count_down()"
   ]
  },
  {
   "cell_type": "markdown",
   "metadata": {},
   "source": [
    "# Using *args"
   ]
  },
  {
   "cell_type": "markdown",
   "metadata": {},
   "source": [
    "## Question 1:\n",
    "\n",
    "**Write a function that joins together all the given <code>*args</code> with 'and', here you may want to use the <code>.join()</code> method, if you do not know what this method does, check out this website:**\n",
    "\n",
    "https://www.programiz.com/python-programming/methods/string/join\n",
    "\n",
    "Example:\n",
    "\n",
    "`Input: join_stuff('stuff','more stuff','even more stuff')`\n",
    "\n",
    "`Expected output: 'stuff and more stuff and even more stuff'`"
   ]
  },
  {
   "cell_type": "code",
   "execution_count": 19,
   "metadata": {},
   "outputs": [],
   "source": [
    "def join_stuff(*args):\n",
    "    print(' and '.join(args)) # All we need to do is call the .join() method"
   ]
  },
  {
   "cell_type": "code",
   "execution_count": 20,
   "metadata": {},
   "outputs": [
    {
     "name": "stdout",
     "output_type": "stream",
     "text": [
      "stuff and more stuff and even more stuff\n"
     ]
    }
   ],
   "source": [
    "# Check\n",
    "\n",
    "join_stuff('stuff','more stuff', 'even more stuff')"
   ]
  },
  {
   "cell_type": "markdown",
   "metadata": {},
   "source": [
    "## Question 2:\n",
    "\n",
    "**Write a function that returns the sum doubled of all the given <code>*args</code> that the user inputs when they call the function by using the <code>sum()</code> function. If you do not know what the <code>sum()</code> function does, check out this website:**\n",
    "\n",
    "https://www.programiz.com/python-programming/methods/built-in/sum\n",
    "\n",
    "Example:\n",
    "\n",
    "`Input: sum_func(40,60,30)`\n",
    "\n",
    "`Expected output: 260`"
   ]
  },
  {
   "cell_type": "code",
   "execution_count": 21,
   "metadata": {},
   "outputs": [],
   "source": [
    "def sum_func(*args):\n",
    "    return sum(args)*2  # This one has very simple mathematical functions\n",
    "    "
   ]
  },
  {
   "cell_type": "code",
   "execution_count": 23,
   "metadata": {},
   "outputs": [
    {
     "data": {
      "text/plain": [
       "400"
      ]
     },
     "execution_count": 23,
     "metadata": {},
     "output_type": "execute_result"
    }
   ],
   "source": [
    "# Check\n",
    "\n",
    "sum_func(50,60,90)"
   ]
  },
  {
   "cell_type": "markdown",
   "metadata": {},
   "source": [
    "# Using **kwargs"
   ]
  },
  {
   "cell_type": "markdown",
   "metadata": {},
   "source": [
    "## Question 1:\n",
    "\n",
    "**Write a function that pieces together a sentence using the user's <code>**kwargs</code>. Depending if certain <code>**kwargs</code> are in the list of the user's input parameters, here you may want to use <code>if,elif and else statements</code> , <code>f\"\" or .format method</code> and indexing. If you do not know what any of these are, check out the websites below: **\n",
    "\n",
    "if,elif and else statements: https://www.programiz.com/python-programming/if-elif-else\n",
    "\n",
    "indexing: https://www.programiz.com/python-programming/string\n",
    "\n",
    "Example:\n",
    "\n",
    "`input: sentence_maker(juice='orange',fruit='apple')`\n",
    "\n",
    "`Expected output: 'I like orange juice and my favourite fruit is apple.'` "
   ]
  },
  {
   "cell_type": "code",
   "execution_count": 24,
   "metadata": {},
   "outputs": [],
   "source": [
    "def sentence_maker(**kwargs):\n",
    "    if 'juice' and 'fruit' in kwargs:  # If the keywords:'juice' and 'fruit are in the user's list of kwargs\n",
    "        print(f\"I like {kwargs['juice']} juice and my favourite fruit is {kwargs['fruit']}.\")"
   ]
  },
  {
   "cell_type": "code",
   "execution_count": 28,
   "metadata": {},
   "outputs": [
    {
     "name": "stdout",
     "output_type": "stream",
     "text": [
      "I like lemon juice and my favourite fruit is blackberry.\n"
     ]
    }
   ],
   "source": [
    "# Check\n",
    "sentence_maker(juice='lemon',fruit='blackberry')"
   ]
  },
  {
   "cell_type": "markdown",
   "metadata": {},
   "source": [
    "# Using * args and ** kwargs"
   ]
  },
  {
   "cell_type": "markdown",
   "metadata": {},
   "source": [
    "## Challenge:\n",
    "\n",
    "**Can you make your own function that includes <code>*args</code> and <code>**kwargs</code>? If so, use the space below to make your own function.**"
   ]
  },
  {
   "cell_type": "code",
   "execution_count": 29,
   "metadata": {},
   "outputs": [],
   "source": [
    "def myfunc(*args, **kwargs): # This function is very similar to the last one\n",
    "    if 'fruit' and 'juice' in kwargs:\n",
    "        print(f\"I like {' and '.join(args)} and my favorite fruit is {kwargs['fruit']}\")\n",
    "        print(f\"May I have some {kwargs['juice']} juice?\")\n",
    "    else:\n",
    "        pass"
   ]
  },
  {
   "cell_type": "code",
   "execution_count": 33,
   "metadata": {},
   "outputs": [
    {
     "name": "stdout",
     "output_type": "stream",
     "text": [
      "I like chips and ice cream and my favorite fruit is orange\n",
      "May I have some apple juice?\n"
     ]
    }
   ],
   "source": [
    "# Test your function here\n",
    "\n",
    "myfunc('chips','ice cream',fruit='orange',juice='apple')"
   ]
  },
  {
   "cell_type": "markdown",
   "metadata": {},
   "source": [
    "# Great Job! :D"
   ]
  }
 ],
 "metadata": {
  "kernelspec": {
   "display_name": "Python 3",
   "language": "python",
   "name": "python3"
  },
  "language_info": {
   "codemirror_mode": {
    "name": "ipython",
    "version": 3
   },
   "file_extension": ".py",
   "mimetype": "text/x-python",
   "name": "python",
   "nbconvert_exporter": "python",
   "pygments_lexer": "ipython3",
   "version": "3.7.6"
  }
 },
 "nbformat": 4,
 "nbformat_minor": 1
}
