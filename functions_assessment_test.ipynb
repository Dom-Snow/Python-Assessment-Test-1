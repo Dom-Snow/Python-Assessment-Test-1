{
 "cells": [
  {
   "cell_type": "markdown",
   "metadata": {},
   "source": [
    "# Functions Assessment Test\n",
    "\n",
    "Complete the following questions:\n",
    "___\n"
   ]
  },
  {
   "cell_type": "markdown",
   "metadata": {},
   "source": [
    "# Making Simple Functions"
   ]
  },
  {
   "cell_type": "markdown",
   "metadata": {},
   "source": [
    "## Question 1:\n",
    "\n",
    "**Write a function that checks the length of any string or list.**\n",
    "\n",
    "*Note: The len() function might come in handy over here. If you are not sure what the len() function does, check out this website for more information: \n",
    "\n",
    "https://www.programiz.com/python-programming/methods/built-in/len\n",
    "\n",
    "Example 1:\n",
    "\n",
    "`Input Parameter: 'Hi this is a string!'`\n",
    "\n",
    "`Expected Output: 15`\n",
    "\n",
    "Example 2:\n",
    "\n",
    "`Input Parameter: [1,2,3,4,5]`\n",
    "\n",
    "`Expected Output: 5`"
   ]
  },
  {
   "cell_type": "code",
   "execution_count": 5,
   "metadata": {},
   "outputs": [],
   "source": [
    "def check_length():\n",
    "    pass"
   ]
  },
  {
   "cell_type": "code",
   "execution_count": null,
   "metadata": {},
   "outputs": [],
   "source": [
    "# Check\n",
    "\n",
    "check_length()"
   ]
  },
  {
   "cell_type": "markdown",
   "metadata": {},
   "source": [
    "## Question 2:\n",
    "\n",
    "**Write a function that turns a word into a pig latin word. Pig latin is putting the first letter at the end of the word starts with a vowel and putting the first letter at the end of the word and adding 'ay' if the word doesn't start with a vowel.**\n",
    "\n",
    "Example 1:                             \n",
    "\n",
    "`Input Parameter: 'apple'`\n",
    "\n",
    "`Expected Output:`\n",
    "`'pplea'`\n",
    "\n",
    "Example 2:\n",
    "\n",
    "`Input Parameter: 'word'`\n",
    "\n",
    "`Expected Output:`\n",
    "`'ordway'`\n"
   ]
  },
  {
   "cell_type": "code",
   "execution_count": 2,
   "metadata": {},
   "outputs": [],
   "source": [
    "def pig_latin():\n",
    "    pass"
   ]
  },
  {
   "cell_type": "code",
   "execution_count": 3,
   "metadata": {},
   "outputs": [],
   "source": [
    "# Check\n",
    "pig_latin()"
   ]
  },
  {
   "cell_type": "markdown",
   "metadata": {},
   "source": [
    "## Question 3:\n",
    "\n",
    "**Write a function that uses a <code>for</code> and <code>while</code> loop to count down from 5 and then say 'BLAST OFF' when it reaches 0.**\n",
    "\n",
    "`Example:\n",
    "\n",
    "`Input: count_down()`\n",
    "\n",
    "`Expected output: \n",
    "5!\n",
    "4!\n",
    "3!\n",
    "2!\n",
    "1!\n",
    "0!\n",
    "BLAST OFF!`"
   ]
  },
  {
   "cell_type": "code",
   "execution_count": 7,
   "metadata": {},
   "outputs": [],
   "source": [
    "def count_down():\n",
    "    pass"
   ]
  },
  {
   "cell_type": "code",
   "execution_count": 8,
   "metadata": {},
   "outputs": [],
   "source": [
    "# Check\n",
    "\n",
    "count_down()"
   ]
  },
  {
   "cell_type": "markdown",
   "metadata": {},
   "source": [
    "# Using *args"
   ]
  },
  {
   "cell_type": "markdown",
   "metadata": {},
   "source": [
    "## Question 1:\n",
    "\n",
    "**Write a function that joins together all the given <code>*args</code> with 'and', here you may want to use the <code>.join()</code> method, if you do not know what this method does, check out this website:**\n",
    "\n",
    "https://www.programiz.com/python-programming/methods/string/join\n",
    "\n",
    "Example:\n",
    "\n",
    "`Input: join_stuff('stuff','more stuff','even more stuff')`\n",
    "\n",
    "`Expected output: 'stuff and more stuff and even more stuff'`"
   ]
  },
  {
   "cell_type": "code",
   "execution_count": 9,
   "metadata": {},
   "outputs": [],
   "source": [
    "def join_stuff(*args):\n",
    "    pass"
   ]
  },
  {
   "cell_type": "code",
   "execution_count": 10,
   "metadata": {},
   "outputs": [],
   "source": [
    "# Check\n",
    "\n",
    "join_stuff()"
   ]
  },
  {
   "cell_type": "markdown",
   "metadata": {},
   "source": [
    "## Question 2:\n",
    "\n",
    "**Write a function that returns the sum doubled of all the given <code>*args</code> that the user inputs when they call the function by using the <code>sum()</code> function. If you do not know what the <code>sum()</code> function does, check out this website:**\n",
    "\n",
    "https://www.programiz.com/python-programming/methods/built-in/sum\n",
    "\n",
    "Example:\n",
    "\n",
    "`Input: sum_func(40,60,30)`\n",
    "\n",
    "`Expected output: 260`"
   ]
  },
  {
   "cell_type": "code",
   "execution_count": 1,
   "metadata": {},
   "outputs": [],
   "source": [
    "def sum_func(*args):\n",
    "    pass\n",
    "    "
   ]
  },
  {
   "cell_type": "code",
   "execution_count": 2,
   "metadata": {},
   "outputs": [],
   "source": [
    "# Check\n",
    "\n",
    "sum_func()"
   ]
  },
  {
   "cell_type": "markdown",
   "metadata": {},
   "source": [
    "# Using **kwargs"
   ]
  },
  {
   "cell_type": "markdown",
   "metadata": {},
   "source": [
    "## Question 1:\n",
    "\n",
    "Write a function that pieces together a sentence using the user's <code>**kwargs</code>. Depending if certain <code>**kwargs</code> are in the list of the user's input parameters, here you may want to use <code>if,elif and else statements</code> , <code>f\"\" or .format method</code> and indexing. If you do not know what any of these are, check out the websites below: **\n",
    "\n",
    "if,elif and else statements: https://www.programiz.com/python-programming/if-elif-else\n",
    "\n",
    "indexing: https://www.programiz.com/python-programming/string\n",
    "\n",
    "Example:\n",
    "\n",
    "`input: sentence_maker(juice='orange',fruit='apple')`\n",
    "\n",
    "`Expected output: 'I like orange juice and my favourite fruit is apple.'` "
   ]
  },
  {
   "cell_type": "code",
   "execution_count": 3,
   "metadata": {},
   "outputs": [],
   "source": [
    "def sentence_maker(**kwargs):\n",
    "    pass"
   ]
  },
  {
   "cell_type": "code",
   "execution_count": 4,
   "metadata": {},
   "outputs": [],
   "source": [
    "# Check\n",
    "sentence_maker()"
   ]
  },
  {
   "cell_type": "markdown",
   "metadata": {},
   "source": [
    "# Using * args and ** kwargs"
   ]
  },
  {
   "cell_type": "markdown",
   "metadata": {},
   "source": [
    "## Challenge:\n",
    "\n",
    "**Can you make your own function that includes <code>*args</code> and** **<code>**kwargs</code>? If so, use the space below to make your own function.**"
   ]
  },
  {
   "cell_type": "code",
   "execution_count": null,
   "metadata": {},
   "outputs": [],
   "source": []
  },
  {
   "cell_type": "code",
   "execution_count": 5,
   "metadata": {},
   "outputs": [],
   "source": [
    "# Test your function here"
   ]
  },
  {
   "cell_type": "markdown",
   "metadata": {},
   "source": [
    "# Great Job! :D"
   ]
  }
 ],
 "metadata": {
  "kernelspec": {
   "display_name": "Python 3",
   "language": "python",
   "name": "python3"
  },
  "language_info": {
   "codemirror_mode": {
    "name": "ipython",
    "version": 3
   },
   "file_extension": ".py",
   "mimetype": "text/x-python",
   "name": "python",
   "nbconvert_exporter": "python",
   "pygments_lexer": "ipython3",
   "version": "3.7.6"
  }
 },
 "nbformat": 4,
 "nbformat_minor": 1
}
